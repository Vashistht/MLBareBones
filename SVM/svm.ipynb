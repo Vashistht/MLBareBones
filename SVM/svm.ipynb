{
 "cells": [
  {
   "cell_type": "code",
   "execution_count": 515,
   "metadata": {},
   "outputs": [],
   "source": [
    "import numpy as np\n",
    "import os\n",
    "from sklearn.datasets import load_svmlight_file\n",
    "from scipy import stats\n",
    "from scipy import sparse\n",
    "import cvxpy as cp\n",
    "import matplotlib.pyplot as plt\n",
    "\n",
    "'''\n",
    "Example for reading data and the corresponding labels\n",
    "'''\n",
    "DATA_DIR = '.'\n",
    "data_train, label_train = load_svmlight_file(os.path.join(DATA_DIR, 'train.txt'),n_features=60) \n",
    "data_test, label_test = load_svmlight_file(os.path.join(DATA_DIR, 'test.txt'),n_features=60) "
   ]
  },
  {
   "cell_type": "markdown",
   "metadata": {},
   "source": [
    "# 5.1: Data preprocessing"
   ]
  },
  {
   "cell_type": "code",
   "execution_count": 520,
   "metadata": {},
   "outputs": [],
   "source": [
    "def preprocessing_train(data):\n",
    "    \"\"\" Argument:\n",
    "    train_data: N*D matrix, each row as a sample and each column as a feature\n",
    "    (needs to be dense)\n",
    "    train_label: N*1 vector, each row as a label\n",
    "    \n",
    "    Return: preprocessed train_data where \n",
    "    # compute mean for each sample\n",
    "    # divide each feature by its standard deviation\n",
    "    \"\"\"\n",
    "    datapoints, features = data.shape[0], data.shape[1]\n",
    "    data_copy = data.copy()\n",
    "    \n",
    "    mean_list, std_list = [],[]\n",
    "    for i in range(features): #no of columns = no of features\n",
    "        col_i = np.array(data[:,i])         # mean across columns\n",
    "        mean_i = (1/datapoints) * np.sum(col_i)\n",
    "        variance_i = (1/(datapoints-1))* np.sum(np.square(col_i- mean_i) )\n",
    "        std_i = np.sqrt(variance_i) # std across columns\n",
    "        \n",
    "        col_i = (col_i-mean_i) # subtract by mean \n",
    "        col_i = col_i/ std_i   # divide by std \n",
    "        data_copy[:,i] = col_i \n",
    "        mean_list.append(mean_i)\n",
    "        std_list.append(std_i)\n",
    "    return data_copy, mean_list, std_list"
   ]
  },
  {
   "cell_type": "code",
   "execution_count": 521,
   "metadata": {},
   "outputs": [],
   "source": [
    "def preprocess_test(test_data, mean_list, std_list):\n",
    "    test_datapoints, features = test_data.shape[0], test_data.shape[1]\n",
    "    test_data_copy = test_data.copy()\n",
    "    \n",
    "    for i in range(features):\n",
    "        # no of columns = no of features\n",
    "        mean_i = mean_list[i]\n",
    "        std_i = std_list[i]\n",
    "        col_i = np.array(test_data[:,i])\n",
    "        \n",
    "        col_i = (col_i-mean_i) \n",
    "        col_i = col_i/ std_i\n",
    "        test_data_copy[:,i] = col_i\n",
    "    \n",
    "    return test_data_copy"
   ]
  },
  {
   "cell_type": "code",
   "execution_count": 525,
   "metadata": {},
   "outputs": [
    {
     "name": "stdout",
     "output_type": "stream",
     "text": [
      "2nd feture: mean is 2.460, std is 1.122\n",
      "9th feture: mean is 2.537, std is 1.106\n"
     ]
    }
   ],
   "source": [
    "preprocessed_train, mean_list, std_list = preprocessing_train(data_train.todense())\n",
    "preprocessed_test = preprocess_test(data_test.todense(), mean_list, std_list)\n",
    "\n",
    "print(\"2nd feture: mean is {:.3f}, std is {:.3f}\".format(mean_list[1], std_list[1]))\n",
    "print(\"9th feture: mean is {:.3f}, std is {:.3f}\".format(mean_list[8], std_list[8]))"
   ]
  },
  {
   "cell_type": "markdown",
   "metadata": {},
   "source": [
    "---\n",
    "# 5.2: Implement linear SVM\n",
    "\n",
    "$$ \\min_{w,b,\\xi}  \\frac{1}{2} \\| w\\|_2^2+ C \\sum_{i=1}^N \\xi_i $$\n",
    "\n",
    "$$\\text{subject to} \\quad  \\xi_i \\geq 0, \\; i=1,\\ldots N$$\n",
    "\n",
    "$$y_i(w^Tx_i  +  b) \\geq 1-\\xi_i, \\;\n",
    "        i=1,\\ldots N$$"
   ]
  },
  {
   "cell_type": "code",
   "execution_count": 523,
   "metadata": {},
   "outputs": [],
   "source": [
    "\n",
    "\n",
    "def train_svm(train_data, train_label, C):\n",
    "  \"\"\"Train linear SVM (primal form)\n",
    "  Argument:\n",
    "    train_data: N*D matrix, each row as a sample and each column as a feature\n",
    "    train_label: N*1 vector, each row as a label\n",
    "    C: tradeoff parameter (on slack variable side)\n",
    "\n",
    "  Return:\n",
    "    w: feature vector (column vector)\n",
    "    b: bias term\n",
    "\"\"\"\n",
    "  \n",
    "  N, d = train_data.shape[0], train_data.shape[1]\n",
    "  w = cp.Variable((d,1))\n",
    "  b = cp.Variable(1)\n",
    "  xi = cp.Variable((N,1))\n",
    "  y = np.expand_dims(train_label, axis = 1)\n",
    "\n",
    "  objective = cp.Minimize(0.5 * cp.norm(w)**2 + C * cp.sum(xi)) # w = d * 1, x_i = d*1, train_data = N * d, y = N*1\n",
    "  constraints = [xi >=0, cp.multiply(y, train_data@w + b) >=1 - xi]\n",
    "  problem = cp.Problem(objective=objective, constraints=constraints)\n",
    "  result = problem.solve()\n",
    "  \n",
    "  w, b= w.value, b.value\n",
    "  return w, b"
   ]
  },
  {
   "cell_type": "code",
   "execution_count": 557,
   "metadata": {},
   "outputs": [],
   "source": [
    "# test\n",
    "w, b = train_svm(preprocessed_train, label_train, C = .001)"
   ]
  },
  {
   "cell_type": "code",
   "execution_count": 558,
   "metadata": {},
   "outputs": [],
   "source": [
    "def test_svm(test_data, test_label, w, b):\n",
    "  \"\"\"Test linear SVM\n",
    "\n",
    "  Argument:\n",
    "    test_data: M*D matrix, each row as a sample and each column as a feature\n",
    "    test_label: M*1 vector, each row as a label\n",
    "    w: feature vector\n",
    "    b: bias term\n",
    "\n",
    "  Return\n",
    "    test_accuracy: a float between [0, 1] representing the test accuracy\n",
    "  \"\"\"\n",
    "  pred =  np.sign(test_data@w + b)\n",
    "  test_label = np.expand_dims(test_label, axis = 1)\n",
    "  misclassifications = np.sum(pred!=test_label)\n",
    "  error_rate = misclassifications/ test_data.shape[0]\n",
    "  return error_rate"
   ]
  },
  {
   "cell_type": "code",
   "execution_count": 559,
   "metadata": {},
   "outputs": [
    {
     "data": {
      "text/plain": [
       "0.152183908045977"
      ]
     },
     "execution_count": 559,
     "metadata": {},
     "output_type": "execute_result"
    }
   ],
   "source": [
    "test_svm(preprocessed_test, label_test, w, b)"
   ]
  },
  {
   "cell_type": "markdown",
   "metadata": {},
   "source": [
    "___\n",
    "# 5.3: Cross validation for linear SVM"
   ]
  },
  {
   "cell_type": "code",
   "execution_count": 445,
   "metadata": {},
   "outputs": [],
   "source": [
    "def cross_val_split(X, y, batch_number):\n",
    "    n, d = X.shape\n",
    "    fold_size = n // batch_number  # Size of each fold\n",
    "    train_split_total, val_split_total = [], []\n",
    "    label_list_train, label_list_val= [], []\n",
    "            \n",
    "    preprocessed_train = []\n",
    "    preprocessed_val = []\n",
    "\n",
    "    for i in range(batch_number):\n",
    "        val_start = i * fold_size\n",
    "        val_end = val_start + fold_size\n",
    "\n",
    "        val_split = X[val_start:val_end]\n",
    "        val_label = y[val_start:val_end]\n",
    "        \n",
    "        train_split_before, train_label_before= X[:val_start], y[:val_start]\n",
    "        train_split_after,train_label_after = X[val_end:], y[val_end:] \n",
    "\n",
    "        if train_split_before.shape[0] ==0: # train_split_before is 0\n",
    "            train_split = train_split_after\n",
    "            train_label = train_label_after\n",
    "        elif train_split_after.shape[0] == 0: # train_split_after is 0\n",
    "            train_split= train_split_before\n",
    "            train_label = train_label_before\n",
    "\n",
    "        else: \n",
    "            train_split = np.concatenate((train_split_before, train_split_after), \n",
    "                                         axis=0)\n",
    "            train_label =  np.concatenate((train_label_before, train_label_after), \n",
    "                                         axis=0)\n",
    "            \n",
    "        data_train_preprocessed, mean_list, std_list = preprocessing_train(train_split)\n",
    "        data_val_preprocessed = preprocess_test(val_split,mean_list, std_list )\n",
    "        \n",
    "        preprocessed_train.append(data_train_preprocessed)\n",
    "        label_list_train.append(train_label)\n",
    "        preprocessed_val.append(data_val_preprocessed)\n",
    "        label_list_val.append(val_label)\n",
    "    \n",
    "    preprocessed_train = np.array(preprocessed_train)\n",
    "    preprocessed_val = np.array(preprocessed_val)\n",
    "    label_list_train = np.array(label_list_train)\n",
    "    label_list_val = np.array(label_list_val)\n",
    "    \n",
    "    return preprocessed_train, preprocessed_val, label_list_train, label_list_val"
   ]
  },
  {
   "cell_type": "code",
   "execution_count": 560,
   "metadata": {},
   "outputs": [],
   "source": [
    "total_train, total_val, train_label, val_label =  cross_val_split(data_train.todense(), label_train, batch_number=10)"
   ]
  },
  {
   "cell_type": "code",
   "execution_count": 563,
   "metadata": {},
   "outputs": [
    {
     "data": {
      "text/plain": [
       "array([2.44140625e-04, 9.76562500e-04, 3.90625000e-03, 1.56250000e-02,\n",
       "       6.25000000e-02, 2.50000000e-01, 1.00000000e+00, 4.00000000e+00,\n",
       "       1.60000000e+01, 6.40000000e+01])"
      ]
     },
     "execution_count": 563,
     "metadata": {},
     "output_type": "execute_result"
    }
   ],
   "source": [
    "C_list = np.array([4**(-6+i) for i in range(0,10)])\n",
    "C_list"
   ]
  },
  {
   "cell_type": "code",
   "execution_count": 571,
   "metadata": {},
   "outputs": [],
   "source": [
    "def cross_val_error(X_train, y_train, C_list, num_folds=10):\n",
    "    total_train, total_val, train_label, val_label = cross_val_split(X_train, y_train, batch_number=num_folds)\n",
    "    mean_error_per_C = []\n",
    "    \n",
    "    for C in C_list:\n",
    "        error_per_batch = []\n",
    "        for i in range(num_folds):\n",
    "            w, b = train_svm(total_train[i], train_label[i], C)\n",
    "            error = test_svm(total_val[i], val_label[i], w, b)\n",
    "            error_per_batch.append(error)\n",
    "        mean_error_per_C.append(np.mean(error_per_batch))\n",
    "    \n",
    "    return mean_error_per_C"
   ]
  },
  {
   "cell_type": "code",
   "execution_count": 572,
   "metadata": {},
   "outputs": [],
   "source": [
    "C_list = np.array([4**(-6+i) for i in range(0,10)])\n",
    "errors = cross_val_error(data_train.todense(), label_train, C_list)\n",
    "min_index = np.argmin(errors)"
   ]
  },
  {
   "cell_type": "code",
   "execution_count": 579,
   "metadata": {},
   "outputs": [
    {
     "name": "stdout",
     "output_type": "stream",
     "text": [
      "Accuracy = 51.9000 for C = 0.0002\n",
      "Accuracy = 79.3000 for C = 0.0010\n",
      "Accuracy = 80.7000 for C = 0.0039\n",
      "Accuracy = 82.0000 for C = 0.0156\n",
      "Accuracy = 81.5000 for C = 0.0625\n",
      "Accuracy = 80.3000 for C = 0.2500\n",
      "Accuracy = 80.5000 for C = 1.0000\n",
      "Accuracy = 80.9000 for C = 4.0000\n",
      "Accuracy = 80.9000 for C = 16.0000\n",
      "Accuracy = 81.0000 for C = 64.0000\n"
     ]
    }
   ],
   "source": [
    "for i in range(len(errors)):\n",
    "    print(\"Accuracy = {:.4f} for C = {:.4f}\".format(100*(1-errors[i]), C_list[i]))"
   ]
  },
  {
   "cell_type": "code",
   "execution_count": 583,
   "metadata": {},
   "outputs": [
    {
     "name": "stderr",
     "output_type": "stream",
     "text": [
      "No artists with labels found to put in legend.  Note that artists whose label start with an underscore are ignored when legend() is called with no argument.\n"
     ]
    },
    {
     "data": {
      "image/png": "[encoded data removed]",
      "text/plain": [
       "<Figure size 432x288 with 1 Axes>"
      ]
     },
     "metadata": {
      "needs_background": "light"
     },
     "output_type": "display_data"
    }
   ],
   "source": [
    "plt.plot(C_list, 1-np.array(errors) )\n",
    "plt.scatter(C_list, 1-np.array(errors), color='green')\n",
    "plt.xscale('log')\n",
    "plt.grid(True, linestyle='--', linewidth=0.5)\n",
    "plt.xlabel(\"C\")\n",
    "plt.ylabel(\"Accuracy\")\n",
    "plt.title(\"Mean Accuracy on Cross Validations vs. C\")\n",
    "plt.legend()\n",
    "plt.savefig(\"Crossval_Clist.png\", dpi=400)"
   ]
  },
  {
   "cell_type": "code",
   "execution_count": 584,
   "metadata": {},
   "outputs": [
    {
     "data": {
      "text/plain": [
       "(3, 0.015625, 0.18)"
      ]
     },
     "execution_count": 584,
     "metadata": {},
     "output_type": "execute_result"
    }
   ],
   "source": [
    "min_index, C_list[min_index], errors[min_index]"
   ]
  },
  {
   "cell_type": "code",
   "execution_count": 575,
   "metadata": {},
   "outputs": [
    {
     "data": {
      "image/png": "[encoded data removed]",
      "text/plain": [
       "<Figure size 432x288 with 1 Axes>"
      ]
     },
     "metadata": {
      "needs_background": "light"
     },
     "output_type": "display_data"
    }
   ],
   "source": [
    "# Plotting\n",
    "plt.plot(C_list, errors)\n",
    "plt.scatter(C_list, errors, color='green')\n",
    "plt.xscale('log')\n",
    "plt.grid(True, linestyle='--', linewidth=0.5)\n",
    "plt.xlabel(\"C\")\n",
    "plt.ylabel(\"Mean Error\")\n",
    "plt.scatter(C_list[min_index], errors[min_index], edgecolors='red', \n",
    "            facecolors='none', s=150, linewidth=2, zorder=5, label=f'Optimal C = {C_list[min_index]}')\n",
    "plt.title(\"Mean Error vs. C\")\n",
    "plt.legend()\n",
    "plt.savefig(\"C_meanerror.png\", dpi=400)"
   ]
  },
  {
   "cell_type": "code",
   "execution_count": 576,
   "metadata": {},
   "outputs": [
    {
     "name": "stdout",
     "output_type": "stream",
     "text": [
      "0.015625 0.015625\n",
      "Optimal C value is 4^(-3)\n"
     ]
    }
   ],
   "source": [
    "print(C_list[min_index], 4**-3)\n",
    "print(r\"Optimal C value is 4^(-3)\")"
   ]
  },
  {
   "cell_type": "markdown",
   "metadata": {},
   "source": [
    "# Test Accuracy"
   ]
  },
  {
   "cell_type": "code",
   "execution_count": 568,
   "metadata": {},
   "outputs": [],
   "source": [
    "preprocessed_train, mean_list, std_list = preprocessing_train(data_train.todense())\n",
    "preprocessed_test = preprocess_test(data_test.todense(), mean_list, std_list)"
   ]
  },
  {
   "cell_type": "code",
   "execution_count": 569,
   "metadata": {},
   "outputs": [],
   "source": [
    "w, b = train_svm(preprocessed_train, label_train, C = 4**-3)\n",
    "test_error = test_svm(preprocessed_test, label_test, w, b)"
   ]
  },
  {
   "cell_type": "code",
   "execution_count": 570,
   "metadata": {},
   "outputs": [
    {
     "name": "stdout",
     "output_type": "stream",
     "text": [
      "Test error is 15.356%, Test Accuracy is 84.644%\n"
     ]
    }
   ],
   "source": [
    "print(\"Test error is {:.3f}%, Test Accuracy is {:.3f}%\".format(100* test_error, 100*(1-test_error) ) )"
   ]
  }
 ],
 "metadata": {
  "kernelspec": {
   "display_name": "cnvx_opt",
   "language": "python",
   "name": "python3"
  },
  "language_info": {
   "codemirror_mode": {
    "name": "ipython",
    "version": 3
   },
   "file_extension": ".py",
   "mimetype": "text/x-python",
   "name": "python",
   "nbconvert_exporter": "python",
   "pygments_lexer": "ipython3",
   "version": "3.11.5"
  },
  "orig_nbformat": 4
 },
 "nbformat": 4,
 "nbformat_minor": 2
}
